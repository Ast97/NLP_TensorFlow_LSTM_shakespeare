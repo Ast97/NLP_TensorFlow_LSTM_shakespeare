{
  "nbformat": 4,
  "nbformat_minor": 0,
  "metadata": {
    "accelerator": "GPU",
    "colab": {
      "name": "Copy of C3_W4_Assignment_Solution.ipynb",
      "provenance": [],
      "collapsed_sections": [],
      "toc_visible": true
    },
    "kernelspec": {
      "name": "python3",
      "display_name": "Python 3"
    },
    "language_info": {
      "name": "python"
    }
  },
  "cells": [
    {
      "cell_type": "code",
      "metadata": {
        "id": "zX4Kg8DUTKWO"
      },
      "source": [
        "#@title Licensed under the Apache License, Version 2.0 (the \"License\");\n",
        "# you may not use this file except in compliance with the License.\n",
        "# You may obtain a copy of the License at\n",
        "#\n",
        "# https://www.apache.org/licenses/LICENSE-2.0\n",
        "#\n",
        "# Unless required by applicable law or agreed to in writing, software\n",
        "# distributed under the License is distributed on an \"AS IS\" BASIS,\n",
        "# WITHOUT WARRANTIES OR CONDITIONS OF ANY KIND, either express or implied.\n",
        "# See the License for the specific language governing permissions and\n",
        "# limitations under the License."
      ],
      "execution_count": null,
      "outputs": []
    },
    {
      "cell_type": "markdown",
      "metadata": {
        "id": "NeQByOlMmtn8"
      },
      "source": [
        "**Note:** This notebook can run using TensorFlow 2.5.0"
      ]
    },
    {
      "cell_type": "code",
      "metadata": {
        "id": "QtWdoQT_mtn8",
        "colab": {
          "base_uri": "https://localhost:8080/"
        },
        "outputId": "eefefba7-fb69-4d48-a000-d5eab34e4af5"
      },
      "source": [
        "!pip install tensorflow==2.4.0"
      ],
      "execution_count": null,
      "outputs": [
        {
          "output_type": "stream",
          "name": "stdout",
          "text": [
            "Collecting tensorflow==2.4.0\n",
            "  Downloading tensorflow-2.4.0-cp37-cp37m-manylinux2010_x86_64.whl (394.7 MB)\n",
            "\u001b[K     |████████████████████████████████| 394.7 MB 18 kB/s \n",
            "\u001b[?25hRequirement already satisfied: numpy~=1.19.2 in /usr/local/lib/python3.7/dist-packages (from tensorflow==2.4.0) (1.19.5)\n",
            "Requirement already satisfied: termcolor~=1.1.0 in /usr/local/lib/python3.7/dist-packages (from tensorflow==2.4.0) (1.1.0)\n",
            "Collecting gast==0.3.3\n",
            "  Downloading gast-0.3.3-py2.py3-none-any.whl (9.7 kB)\n",
            "Requirement already satisfied: astunparse~=1.6.3 in /usr/local/lib/python3.7/dist-packages (from tensorflow==2.4.0) (1.6.3)\n",
            "Requirement already satisfied: absl-py~=0.10 in /usr/local/lib/python3.7/dist-packages (from tensorflow==2.4.0) (0.12.0)\n",
            "Collecting tensorflow-estimator<2.5.0,>=2.4.0rc0\n",
            "  Downloading tensorflow_estimator-2.4.0-py2.py3-none-any.whl (462 kB)\n",
            "\u001b[K     |████████████████████████████████| 462 kB 46.4 MB/s \n",
            "\u001b[?25hRequirement already satisfied: opt-einsum~=3.3.0 in /usr/local/lib/python3.7/dist-packages (from tensorflow==2.4.0) (3.3.0)\n",
            "Requirement already satisfied: flatbuffers~=1.12.0 in /usr/local/lib/python3.7/dist-packages (from tensorflow==2.4.0) (1.12)\n",
            "Requirement already satisfied: typing-extensions~=3.7.4 in /usr/local/lib/python3.7/dist-packages (from tensorflow==2.4.0) (3.7.4.3)\n",
            "Requirement already satisfied: protobuf>=3.9.2 in /usr/local/lib/python3.7/dist-packages (from tensorflow==2.4.0) (3.17.3)\n",
            "Requirement already satisfied: tensorboard~=2.4 in /usr/local/lib/python3.7/dist-packages (from tensorflow==2.4.0) (2.6.0)\n",
            "Requirement already satisfied: wheel~=0.35 in /usr/local/lib/python3.7/dist-packages (from tensorflow==2.4.0) (0.37.0)\n",
            "Requirement already satisfied: wrapt~=1.12.1 in /usr/local/lib/python3.7/dist-packages (from tensorflow==2.4.0) (1.12.1)\n",
            "Requirement already satisfied: keras-preprocessing~=1.1.2 in /usr/local/lib/python3.7/dist-packages (from tensorflow==2.4.0) (1.1.2)\n",
            "Requirement already satisfied: google-pasta~=0.2 in /usr/local/lib/python3.7/dist-packages (from tensorflow==2.4.0) (0.2.0)\n",
            "Collecting h5py~=2.10.0\n",
            "  Downloading h5py-2.10.0-cp37-cp37m-manylinux1_x86_64.whl (2.9 MB)\n",
            "\u001b[K     |████████████████████████████████| 2.9 MB 35.4 MB/s \n",
            "\u001b[?25hCollecting grpcio~=1.32.0\n",
            "  Downloading grpcio-1.32.0-cp37-cp37m-manylinux2014_x86_64.whl (3.8 MB)\n",
            "\u001b[K     |████████████████████████████████| 3.8 MB 38.2 MB/s \n",
            "\u001b[?25hRequirement already satisfied: six~=1.15.0 in /usr/local/lib/python3.7/dist-packages (from tensorflow==2.4.0) (1.15.0)\n",
            "Requirement already satisfied: tensorboard-data-server<0.7.0,>=0.6.0 in /usr/local/lib/python3.7/dist-packages (from tensorboard~=2.4->tensorflow==2.4.0) (0.6.1)\n",
            "Requirement already satisfied: werkzeug>=0.11.15 in /usr/local/lib/python3.7/dist-packages (from tensorboard~=2.4->tensorflow==2.4.0) (1.0.1)\n",
            "Requirement already satisfied: setuptools>=41.0.0 in /usr/local/lib/python3.7/dist-packages (from tensorboard~=2.4->tensorflow==2.4.0) (57.4.0)\n",
            "Requirement already satisfied: google-auth<2,>=1.6.3 in /usr/local/lib/python3.7/dist-packages (from tensorboard~=2.4->tensorflow==2.4.0) (1.35.0)\n",
            "Requirement already satisfied: markdown>=2.6.8 in /usr/local/lib/python3.7/dist-packages (from tensorboard~=2.4->tensorflow==2.4.0) (3.3.4)\n",
            "Requirement already satisfied: requests<3,>=2.21.0 in /usr/local/lib/python3.7/dist-packages (from tensorboard~=2.4->tensorflow==2.4.0) (2.23.0)\n",
            "Requirement already satisfied: tensorboard-plugin-wit>=1.6.0 in /usr/local/lib/python3.7/dist-packages (from tensorboard~=2.4->tensorflow==2.4.0) (1.8.0)\n",
            "Requirement already satisfied: google-auth-oauthlib<0.5,>=0.4.1 in /usr/local/lib/python3.7/dist-packages (from tensorboard~=2.4->tensorflow==2.4.0) (0.4.6)\n",
            "Requirement already satisfied: pyasn1-modules>=0.2.1 in /usr/local/lib/python3.7/dist-packages (from google-auth<2,>=1.6.3->tensorboard~=2.4->tensorflow==2.4.0) (0.2.8)\n",
            "Requirement already satisfied: rsa<5,>=3.1.4 in /usr/local/lib/python3.7/dist-packages (from google-auth<2,>=1.6.3->tensorboard~=2.4->tensorflow==2.4.0) (4.7.2)\n",
            "Requirement already satisfied: cachetools<5.0,>=2.0.0 in /usr/local/lib/python3.7/dist-packages (from google-auth<2,>=1.6.3->tensorboard~=2.4->tensorflow==2.4.0) (4.2.2)\n",
            "Requirement already satisfied: requests-oauthlib>=0.7.0 in /usr/local/lib/python3.7/dist-packages (from google-auth-oauthlib<0.5,>=0.4.1->tensorboard~=2.4->tensorflow==2.4.0) (1.3.0)\n",
            "Requirement already satisfied: importlib-metadata in /usr/local/lib/python3.7/dist-packages (from markdown>=2.6.8->tensorboard~=2.4->tensorflow==2.4.0) (4.8.1)\n",
            "Requirement already satisfied: pyasn1<0.5.0,>=0.4.6 in /usr/local/lib/python3.7/dist-packages (from pyasn1-modules>=0.2.1->google-auth<2,>=1.6.3->tensorboard~=2.4->tensorflow==2.4.0) (0.4.8)\n",
            "Requirement already satisfied: urllib3!=1.25.0,!=1.25.1,<1.26,>=1.21.1 in /usr/local/lib/python3.7/dist-packages (from requests<3,>=2.21.0->tensorboard~=2.4->tensorflow==2.4.0) (1.24.3)\n",
            "Requirement already satisfied: chardet<4,>=3.0.2 in /usr/local/lib/python3.7/dist-packages (from requests<3,>=2.21.0->tensorboard~=2.4->tensorflow==2.4.0) (3.0.4)\n",
            "Requirement already satisfied: idna<3,>=2.5 in /usr/local/lib/python3.7/dist-packages (from requests<3,>=2.21.0->tensorboard~=2.4->tensorflow==2.4.0) (2.10)\n",
            "Requirement already satisfied: certifi>=2017.4.17 in /usr/local/lib/python3.7/dist-packages (from requests<3,>=2.21.0->tensorboard~=2.4->tensorflow==2.4.0) (2021.5.30)\n",
            "Requirement already satisfied: oauthlib>=3.0.0 in /usr/local/lib/python3.7/dist-packages (from requests-oauthlib>=0.7.0->google-auth-oauthlib<0.5,>=0.4.1->tensorboard~=2.4->tensorflow==2.4.0) (3.1.1)\n",
            "Requirement already satisfied: zipp>=0.5 in /usr/local/lib/python3.7/dist-packages (from importlib-metadata->markdown>=2.6.8->tensorboard~=2.4->tensorflow==2.4.0) (3.5.0)\n",
            "Installing collected packages: grpcio, tensorflow-estimator, h5py, gast, tensorflow\n",
            "  Attempting uninstall: grpcio\n",
            "    Found existing installation: grpcio 1.40.0\n",
            "    Uninstalling grpcio-1.40.0:\n",
            "      Successfully uninstalled grpcio-1.40.0\n",
            "  Attempting uninstall: tensorflow-estimator\n",
            "    Found existing installation: tensorflow-estimator 2.6.0\n",
            "    Uninstalling tensorflow-estimator-2.6.0:\n",
            "      Successfully uninstalled tensorflow-estimator-2.6.0\n",
            "  Attempting uninstall: h5py\n",
            "    Found existing installation: h5py 3.1.0\n",
            "    Uninstalling h5py-3.1.0:\n",
            "      Successfully uninstalled h5py-3.1.0\n",
            "  Attempting uninstall: gast\n",
            "    Found existing installation: gast 0.4.0\n",
            "    Uninstalling gast-0.4.0:\n",
            "      Successfully uninstalled gast-0.4.0\n",
            "  Attempting uninstall: tensorflow\n",
            "    Found existing installation: tensorflow 2.6.0\n",
            "    Uninstalling tensorflow-2.6.0:\n",
            "      Successfully uninstalled tensorflow-2.6.0\n",
            "Successfully installed gast-0.3.3 grpcio-1.32.0 h5py-2.10.0 tensorflow-2.4.0 tensorflow-estimator-2.4.0\n"
          ]
        }
      ]
    },
    {
      "cell_type": "code",
      "metadata": {
        "id": "BOwsuGQQY9OL"
      },
      "source": [
        "from tensorflow.keras.preprocessing.sequence import pad_sequences\n",
        "from tensorflow.keras.layers import Embedding, LSTM, Dense, Dropout, Bidirectional\n",
        "from tensorflow.keras.preprocessing.text import Tokenizer\n",
        "from tensorflow.keras.models import Sequential\n",
        "from tensorflow.keras.optimizers import Adam\n",
        "from tensorflow.keras import regularizers\n",
        "import tensorflow.keras.utils as ku \n",
        "import numpy as np "
      ],
      "execution_count": null,
      "outputs": []
    },
    {
      "cell_type": "code",
      "metadata": {
        "id": "PRnDnCW-Z7qv",
        "colab": {
          "base_uri": "https://localhost:8080/"
        },
        "outputId": "36dd111d-d78b-4cc5-987d-ca2ead9b80b4"
      },
      "source": [
        "tokenizer = Tokenizer()\n",
        "\n",
        "# sonnets.txt\n",
        "!gdown --id 108jAePKK4R3BVYBbYJZ32JWUwxeMg20K\n",
        "\n",
        "data = open('./sonnets.txt').read()\n",
        "\n",
        "corpus = data.lower().split(\"\\n\")\n",
        "\n",
        "\n",
        "tokenizer.fit_on_texts(corpus)\n",
        "total_words = len(tokenizer.word_index) + 1\n",
        "\n",
        "# create input sequences using list of tokens\n",
        "input_sequences = []\n",
        "for line in corpus:\n",
        "\ttoken_list = tokenizer.texts_to_sequences([line])[0]\n",
        "\tfor i in range(1, len(token_list)):\n",
        "\t\tn_gram_sequence = token_list[:i+1]\n",
        "\t\tinput_sequences.append(n_gram_sequence)\n",
        "\n",
        "\n",
        "# pad sequences \n",
        "max_sequence_len = max([len(x) for x in input_sequences])\n",
        "input_sequences = np.array(pad_sequences(input_sequences, maxlen=max_sequence_len, padding='pre'))\n",
        "\n",
        "# create predictors and label\n",
        "predictors, label = input_sequences[:,:-1],input_sequences[:,-1]\n",
        "\n",
        "label = ku.to_categorical(label, num_classes=total_words)"
      ],
      "execution_count": null,
      "outputs": [
        {
          "output_type": "stream",
          "name": "stdout",
          "text": [
            "Downloading...\n",
            "From: https://drive.google.com/uc?id=108jAePKK4R3BVYBbYJZ32JWUwxeMg20K\n",
            "To: /content/sonnets.txt\n",
            "\r  0% 0.00/93.6k [00:00<?, ?B/s]\r100% 93.6k/93.6k [00:00<00:00, 34.8MB/s]\n"
          ]
        }
      ]
    },
    {
      "cell_type": "code",
      "metadata": {
        "id": "w9vH8Y59ajYL",
        "colab": {
          "base_uri": "https://localhost:8080/"
        },
        "outputId": "87d25d09-78b1-4613-c0c9-887571b86f28"
      },
      "source": [
        "### START CODE HERE\n",
        "model = Sequential()\n",
        "model.add(Embedding(total_words, 100, input_length=max_sequence_len-1))# Your Embedding Layer)\n",
        "model.add(Bidirectional(LSTM(150, return_sequences = True)))# An LSTM Layer)\n",
        "model.add(Dropout(0.2))# A dropout layer)\n",
        "model.add(LSTM(100))# Another LSTM Layer)\n",
        "model.add(Dense(total_words/2, activation='relu', kernel_regularizer=regularizers.l2(0.01)))# A Dense Layer including regularizers)\n",
        "model.add(Dense(total_words, activation='softmax'))# A Dense Layer)\n",
        "# Pick an optimizer\n",
        "model.compile(loss='categorical_crossentropy', optimizer='adam', metrics=['accuracy'])# Pick a loss function and an optimizer)\n",
        "### END CODE HERE\n",
        "\n",
        "print(model.summary())"
      ],
      "execution_count": null,
      "outputs": [
        {
          "output_type": "stream",
          "name": "stdout",
          "text": [
            "Model: \"sequential\"\n",
            "_________________________________________________________________\n",
            "Layer (type)                 Output Shape              Param #   \n",
            "=================================================================\n",
            "embedding (Embedding)        (None, 10, 100)           321100    \n",
            "_________________________________________________________________\n",
            "bidirectional (Bidirectional (None, 10, 300)           301200    \n",
            "_________________________________________________________________\n",
            "dropout (Dropout)            (None, 10, 300)           0         \n",
            "_________________________________________________________________\n",
            "lstm_1 (LSTM)                (None, 100)               160400    \n",
            "_________________________________________________________________\n",
            "dense (Dense)                (None, 1605)              162105    \n",
            "_________________________________________________________________\n",
            "dense_1 (Dense)              (None, 3211)              5156866   \n",
            "=================================================================\n",
            "Total params: 6,101,671\n",
            "Trainable params: 6,101,671\n",
            "Non-trainable params: 0\n",
            "_________________________________________________________________\n",
            "None\n"
          ]
        }
      ]
    },
    {
      "cell_type": "code",
      "metadata": {
        "id": "AIg2f1HBxqof",
        "colab": {
          "base_uri": "https://localhost:8080/"
        },
        "outputId": "59891401-6f24-4955-dc59-b68f02ab39d5"
      },
      "source": [
        " history = model.fit(predictors, label, epochs=100, verbose=1)"
      ],
      "execution_count": null,
      "outputs": [
        {
          "output_type": "stream",
          "name": "stdout",
          "text": [
            "Epoch 1/100\n",
            "484/484 [==============================] - 50s 28ms/step - loss: 7.3339 - accuracy: 0.0227\n",
            "Epoch 2/100\n",
            "484/484 [==============================] - 14s 28ms/step - loss: 6.4969 - accuracy: 0.0204\n",
            "Epoch 3/100\n",
            "484/484 [==============================] - 14s 28ms/step - loss: 6.3944 - accuracy: 0.0247\n",
            "Epoch 4/100\n",
            "484/484 [==============================] - 14s 29ms/step - loss: 6.2402 - accuracy: 0.0304\n",
            "Epoch 5/100\n",
            "484/484 [==============================] - 14s 28ms/step - loss: 6.1358 - accuracy: 0.0356\n",
            "Epoch 6/100\n",
            "484/484 [==============================] - 14s 28ms/step - loss: 6.0369 - accuracy: 0.0400\n",
            "Epoch 7/100\n",
            "484/484 [==============================] - 14s 28ms/step - loss: 5.9761 - accuracy: 0.0435\n",
            "Epoch 8/100\n",
            "484/484 [==============================] - 14s 28ms/step - loss: 5.8859 - accuracy: 0.0460\n",
            "Epoch 9/100\n",
            "484/484 [==============================] - 14s 28ms/step - loss: 5.7903 - accuracy: 0.0516\n",
            "Epoch 10/100\n",
            "484/484 [==============================] - 14s 28ms/step - loss: 5.6989 - accuracy: 0.0600\n",
            "Epoch 11/100\n",
            "484/484 [==============================] - 14s 28ms/step - loss: 5.5328 - accuracy: 0.0721\n",
            "Epoch 12/100\n",
            "484/484 [==============================] - 13s 28ms/step - loss: 5.4436 - accuracy: 0.0768\n",
            "Epoch 13/100\n",
            "484/484 [==============================] - 13s 28ms/step - loss: 5.3402 - accuracy: 0.0779\n",
            "Epoch 14/100\n",
            "484/484 [==============================] - 13s 28ms/step - loss: 5.2279 - accuracy: 0.0833\n",
            "Epoch 15/100\n",
            "484/484 [==============================] - 13s 28ms/step - loss: 5.1423 - accuracy: 0.0905\n",
            "Epoch 16/100\n",
            "484/484 [==============================] - 13s 28ms/step - loss: 5.0200 - accuracy: 0.1007\n",
            "Epoch 17/100\n",
            "484/484 [==============================] - 13s 28ms/step - loss: 4.9303 - accuracy: 0.1032\n",
            "Epoch 18/100\n",
            "484/484 [==============================] - 14s 28ms/step - loss: 4.8040 - accuracy: 0.1146\n",
            "Epoch 19/100\n",
            "484/484 [==============================] - 13s 28ms/step - loss: 4.7131 - accuracy: 0.1186\n",
            "Epoch 20/100\n",
            "484/484 [==============================] - 13s 28ms/step - loss: 4.5919 - accuracy: 0.1323\n",
            "Epoch 21/100\n",
            "484/484 [==============================] - 13s 27ms/step - loss: 4.4897 - accuracy: 0.1412\n",
            "Epoch 22/100\n",
            "484/484 [==============================] - 13s 27ms/step - loss: 4.3906 - accuracy: 0.1479\n",
            "Epoch 23/100\n",
            "484/484 [==============================] - 13s 27ms/step - loss: 4.2836 - accuracy: 0.1639\n",
            "Epoch 24/100\n",
            "484/484 [==============================] - 13s 28ms/step - loss: 4.1450 - accuracy: 0.1773\n",
            "Epoch 25/100\n",
            "484/484 [==============================] - 13s 28ms/step - loss: 4.0404 - accuracy: 0.1966\n",
            "Epoch 26/100\n",
            "484/484 [==============================] - 13s 27ms/step - loss: 3.9322 - accuracy: 0.2113\n",
            "Epoch 27/100\n",
            "484/484 [==============================] - 13s 28ms/step - loss: 3.8239 - accuracy: 0.2313\n",
            "Epoch 28/100\n",
            "484/484 [==============================] - 13s 27ms/step - loss: 3.7266 - accuracy: 0.2494\n",
            "Epoch 29/100\n",
            "484/484 [==============================] - 13s 27ms/step - loss: 3.6411 - accuracy: 0.2731\n",
            "Epoch 30/100\n",
            "484/484 [==============================] - 13s 27ms/step - loss: 3.5217 - accuracy: 0.2972\n",
            "Epoch 31/100\n",
            "484/484 [==============================] - 13s 28ms/step - loss: 3.4365 - accuracy: 0.3133\n",
            "Epoch 32/100\n",
            "484/484 [==============================] - 14s 28ms/step - loss: 3.3626 - accuracy: 0.3299\n",
            "Epoch 33/100\n",
            "484/484 [==============================] - 14s 28ms/step - loss: 3.2632 - accuracy: 0.3568\n",
            "Epoch 34/100\n",
            "484/484 [==============================] - 13s 28ms/step - loss: 3.1688 - accuracy: 0.3790\n",
            "Epoch 35/100\n",
            "484/484 [==============================] - 13s 28ms/step - loss: 3.1074 - accuracy: 0.3883\n",
            "Epoch 36/100\n",
            "484/484 [==============================] - 13s 28ms/step - loss: 2.9996 - accuracy: 0.4090\n",
            "Epoch 37/100\n",
            "484/484 [==============================] - 13s 28ms/step - loss: 2.9625 - accuracy: 0.4190\n",
            "Epoch 38/100\n",
            "484/484 [==============================] - 14s 28ms/step - loss: 2.8735 - accuracy: 0.4378\n",
            "Epoch 39/100\n",
            "484/484 [==============================] - 14s 28ms/step - loss: 2.8095 - accuracy: 0.4554\n",
            "Epoch 40/100\n",
            "484/484 [==============================] - 13s 28ms/step - loss: 2.7202 - accuracy: 0.4758\n",
            "Epoch 41/100\n",
            "484/484 [==============================] - 13s 28ms/step - loss: 2.6827 - accuracy: 0.4921\n",
            "Epoch 42/100\n",
            "484/484 [==============================] - 13s 27ms/step - loss: 2.6395 - accuracy: 0.4981\n",
            "Epoch 43/100\n",
            "484/484 [==============================] - 13s 28ms/step - loss: 2.5577 - accuracy: 0.5157\n",
            "Epoch 44/100\n",
            "484/484 [==============================] - 13s 28ms/step - loss: 2.4984 - accuracy: 0.5266\n",
            "Epoch 45/100\n",
            "484/484 [==============================] - 13s 28ms/step - loss: 2.4522 - accuracy: 0.5432\n",
            "Epoch 46/100\n",
            "484/484 [==============================] - 13s 28ms/step - loss: 2.3780 - accuracy: 0.5561\n",
            "Epoch 47/100\n",
            "484/484 [==============================] - 13s 28ms/step - loss: 2.3185 - accuracy: 0.5710\n",
            "Epoch 48/100\n",
            "484/484 [==============================] - 13s 28ms/step - loss: 2.2881 - accuracy: 0.5777\n",
            "Epoch 49/100\n",
            "484/484 [==============================] - 13s 28ms/step - loss: 2.2724 - accuracy: 0.5758\n",
            "Epoch 50/100\n",
            "484/484 [==============================] - 13s 28ms/step - loss: 2.1890 - accuracy: 0.5929\n",
            "Epoch 51/100\n",
            "484/484 [==============================] - 13s 28ms/step - loss: 2.1768 - accuracy: 0.5983\n",
            "Epoch 52/100\n",
            "484/484 [==============================] - 13s 28ms/step - loss: 2.0892 - accuracy: 0.6222\n",
            "Epoch 53/100\n",
            "484/484 [==============================] - 13s 28ms/step - loss: 2.0476 - accuracy: 0.6348\n",
            "Epoch 54/100\n",
            "484/484 [==============================] - 13s 27ms/step - loss: 2.0116 - accuracy: 0.6360\n",
            "Epoch 55/100\n",
            "484/484 [==============================] - 13s 28ms/step - loss: 2.0159 - accuracy: 0.6409\n",
            "Epoch 56/100\n",
            "484/484 [==============================] - 14s 28ms/step - loss: 1.9554 - accuracy: 0.6514\n",
            "Epoch 57/100\n",
            "484/484 [==============================] - 13s 28ms/step - loss: 1.9145 - accuracy: 0.6570\n",
            "Epoch 58/100\n",
            "484/484 [==============================] - 13s 28ms/step - loss: 1.8772 - accuracy: 0.6705\n",
            "Epoch 59/100\n",
            "484/484 [==============================] - 13s 28ms/step - loss: 1.8213 - accuracy: 0.6786\n",
            "Epoch 60/100\n",
            "484/484 [==============================] - 13s 27ms/step - loss: 1.8196 - accuracy: 0.6831\n",
            "Epoch 61/100\n",
            "484/484 [==============================] - 13s 27ms/step - loss: 1.7799 - accuracy: 0.6826\n",
            "Epoch 62/100\n",
            "484/484 [==============================] - 13s 28ms/step - loss: 1.7563 - accuracy: 0.6882\n",
            "Epoch 63/100\n",
            "484/484 [==============================] - 14s 28ms/step - loss: 1.7082 - accuracy: 0.7023\n",
            "Epoch 64/100\n",
            "484/484 [==============================] - 13s 28ms/step - loss: 1.7076 - accuracy: 0.7038\n",
            "Epoch 65/100\n",
            "484/484 [==============================] - 13s 28ms/step - loss: 1.6516 - accuracy: 0.7125\n",
            "Epoch 66/100\n",
            "484/484 [==============================] - 13s 28ms/step - loss: 1.6536 - accuracy: 0.7100\n",
            "Epoch 67/100\n",
            "484/484 [==============================] - 14s 28ms/step - loss: 1.6242 - accuracy: 0.7183\n",
            "Epoch 68/100\n",
            "484/484 [==============================] - 14s 28ms/step - loss: 1.5972 - accuracy: 0.7228\n",
            "Epoch 69/100\n",
            "484/484 [==============================] - 14s 28ms/step - loss: 1.5809 - accuracy: 0.7269\n",
            "Epoch 70/100\n",
            "484/484 [==============================] - 14s 28ms/step - loss: 1.5353 - accuracy: 0.7341\n",
            "Epoch 71/100\n",
            "484/484 [==============================] - 13s 28ms/step - loss: 1.4986 - accuracy: 0.7420\n",
            "Epoch 72/100\n",
            "484/484 [==============================] - 13s 27ms/step - loss: 1.4840 - accuracy: 0.7471\n",
            "Epoch 73/100\n",
            "484/484 [==============================] - 13s 28ms/step - loss: 1.4821 - accuracy: 0.7469\n",
            "Epoch 74/100\n",
            "484/484 [==============================] - 13s 28ms/step - loss: 1.4829 - accuracy: 0.7472\n",
            "Epoch 75/100\n",
            "484/484 [==============================] - 13s 28ms/step - loss: 1.4766 - accuracy: 0.7469\n",
            "Epoch 76/100\n",
            "484/484 [==============================] - 13s 27ms/step - loss: 1.4080 - accuracy: 0.7611\n",
            "Epoch 77/100\n",
            "484/484 [==============================] - 13s 28ms/step - loss: 1.3978 - accuracy: 0.7650\n",
            "Epoch 78/100\n",
            "484/484 [==============================] - 14s 29ms/step - loss: 1.3877 - accuracy: 0.7668\n",
            "Epoch 79/100\n",
            "484/484 [==============================] - 14s 28ms/step - loss: 1.3777 - accuracy: 0.7672\n",
            "Epoch 80/100\n",
            "484/484 [==============================] - 14s 28ms/step - loss: 1.3486 - accuracy: 0.7727\n",
            "Epoch 81/100\n",
            "484/484 [==============================] - 14s 29ms/step - loss: 1.3412 - accuracy: 0.7699\n",
            "Epoch 82/100\n",
            "484/484 [==============================] - 14s 29ms/step - loss: 1.3481 - accuracy: 0.7648\n",
            "Epoch 83/100\n",
            "484/484 [==============================] - 14s 28ms/step - loss: 1.2833 - accuracy: 0.7849\n",
            "Epoch 84/100\n",
            "484/484 [==============================] - 14s 29ms/step - loss: 1.2731 - accuracy: 0.7881\n",
            "Epoch 85/100\n",
            "484/484 [==============================] - 14s 29ms/step - loss: 1.2871 - accuracy: 0.7803\n",
            "Epoch 86/100\n",
            "484/484 [==============================] - 14s 29ms/step - loss: 1.2569 - accuracy: 0.7875\n",
            "Epoch 87/100\n",
            "484/484 [==============================] - 14s 29ms/step - loss: 1.2504 - accuracy: 0.7865\n",
            "Epoch 88/100\n",
            "484/484 [==============================] - 14s 28ms/step - loss: 1.2443 - accuracy: 0.7876\n",
            "Epoch 89/100\n",
            "484/484 [==============================] - 14s 28ms/step - loss: 1.2214 - accuracy: 0.7874\n",
            "Epoch 90/100\n",
            "484/484 [==============================] - 14s 28ms/step - loss: 1.2104 - accuracy: 0.7925\n",
            "Epoch 91/100\n",
            "484/484 [==============================] - 14s 28ms/step - loss: 1.2310 - accuracy: 0.7846\n",
            "Epoch 92/100\n",
            "484/484 [==============================] - 14s 28ms/step - loss: 1.1651 - accuracy: 0.8035\n",
            "Epoch 93/100\n",
            "484/484 [==============================] - 14s 28ms/step - loss: 1.1981 - accuracy: 0.7928\n",
            "Epoch 94/100\n",
            "484/484 [==============================] - 14s 28ms/step - loss: 1.1684 - accuracy: 0.8034\n",
            "Epoch 95/100\n",
            "484/484 [==============================] - 14s 28ms/step - loss: 1.1616 - accuracy: 0.7987\n",
            "Epoch 96/100\n",
            "484/484 [==============================] - 14s 28ms/step - loss: 1.1568 - accuracy: 0.8016\n",
            "Epoch 97/100\n",
            "484/484 [==============================] - 14s 28ms/step - loss: 1.1539 - accuracy: 0.8043\n",
            "Epoch 98/100\n",
            "484/484 [==============================] - 14s 28ms/step - loss: 1.1267 - accuracy: 0.8095\n",
            "Epoch 99/100\n",
            "484/484 [==============================] - 14s 28ms/step - loss: 1.1255 - accuracy: 0.8033\n",
            "Epoch 100/100\n",
            "484/484 [==============================] - 14s 28ms/step - loss: 1.1189 - accuracy: 0.8067\n"
          ]
        }
      ]
    },
    {
      "cell_type": "code",
      "metadata": {
        "id": "1fXTEO3GJ282",
        "colab": {
          "base_uri": "https://localhost:8080/",
          "height": 545
        },
        "outputId": "91223868-e500-41e6-c7e1-9fbc040c360e"
      },
      "source": [
        "import matplotlib.pyplot as plt\n",
        "acc = history.history['accuracy']\n",
        "loss = history.history['loss']\n",
        "\n",
        "epochs = range(len(acc))\n",
        "\n",
        "plt.plot(epochs, acc, 'b', label='Training accuracy')\n",
        "plt.title('Training accuracy')\n",
        "\n",
        "plt.figure()\n",
        "\n",
        "plt.plot(epochs, loss, 'b', label='Training Loss')\n",
        "plt.title('Training loss')\n",
        "plt.legend()\n",
        "\n",
        "plt.show()"
      ],
      "execution_count": null,
      "outputs": [
        {
          "output_type": "display_data",
          "data": {
            "image/png": "[encoded data removed]",
            "text/plain": [
              "<Figure size 432x288 with 1 Axes>"
            ]
          },
          "metadata": {
            "needs_background": "light"
          }
        },
        {
          "output_type": "display_data",
          "data": {
            "image/png": "[encoded data removed]",
            "text/plain": [
              "<Figure size 432x288 with 1 Axes>"
            ]
          },
          "metadata": {
            "needs_background": "light"
          }
        }
      ]
    },
    {
      "cell_type": "code",
      "metadata": {
        "id": "6Vc6PHgxa6Hm",
        "colab": {
          "base_uri": "https://localhost:8080/"
        },
        "outputId": "1f3d18fc-d697-4274-b960-fc65a72151e5"
      },
      "source": [
        "seed_text = \"Help me Obi Wan Kenobi, you're my only hope\"\n",
        "next_words = 100\n",
        "  \n",
        "for _ in range(next_words):\n",
        "\ttoken_list = tokenizer.texts_to_sequences([seed_text])[0]\n",
        "\ttoken_list = pad_sequences([token_list], maxlen=max_sequence_len-1, padding='pre')\n",
        "\tpredicted = model.predict_classes(token_list, verbose=0)\n",
        "\toutput_word = \"\"\n",
        "\tfor word, index in tokenizer.word_index.items():\n",
        "\t\tif index == predicted:\n",
        "\t\t\toutput_word = word\n",
        "\t\t\tbreak\n",
        "\tseed_text += \" \" + output_word\n",
        "print(seed_text)"
      ],
      "execution_count": null,
      "outputs": [
        {
          "output_type": "stream",
          "name": "stderr",
          "text": [
            "/usr/local/lib/python3.7/dist-packages/tensorflow/python/keras/engine/sequential.py:450: UserWarning: `model.predict_classes()` is deprecated and will be removed after 2021-01-01. Please use instead:* `np.argmax(model.predict(x), axis=-1)`,   if your model does multi-class classification   (e.g. if it uses a `softmax` last-layer activation).* `(model.predict(x) > 0.5).astype(\"int32\")`,   if your model does binary classification   (e.g. if it uses a `sigmoid` last-layer activation).\n",
            "  warnings.warn('`model.predict_classes()` is deprecated and '\n"
          ]
        },
        {
          "output_type": "stream",
          "name": "stdout",
          "text": [
            "Help me Obi Wan Kenobi, you're my only hope be holds my praise doth spend grow new men grow well dead dead cause of love more friend time for sorrow did be mourners find me love so wrong ' wrong ill dearer bring hate bearing new pain bear thine own own verse doth day new ill ill dead dead wastes ' ill new part new new best now aside green thee true it bright part true much things took thine own face ever prove sight ' dyed forth one one more delight than 'will' night do new grow new new wrong are ill more age was one now find\n"
          ]
        }
      ]
    },
    {
      "cell_type": "code",
      "metadata": {
        "id": "oBvrGDS1pClz",
        "colab": {
          "base_uri": "https://localhost:8080/"
        },
        "outputId": "86d014d4-921c-4da9-d0e5-4f55725ae676"
      },
      "source": [
        "seed_text = \"You shall go where I cannot\"\n",
        "next_words = 100\n",
        "  \n",
        "for _ in range(next_words):\n",
        "\ttoken_list = tokenizer.texts_to_sequences([seed_text])[0]\n",
        "\ttoken_list = pad_sequences([token_list], maxlen=max_sequence_len-1, padding='pre')\n",
        "\tpredicted = model.predict_classes(token_list, verbose=0)\n",
        "\toutput_word = \"\"\n",
        "\tfor word, index in tokenizer.word_index.items():\n",
        "\t\tif index == predicted:\n",
        "\t\t\toutput_word = word\n",
        "\t\t\tbreak\n",
        "\tseed_text += \" \" + output_word\n",
        "print(seed_text)"
      ],
      "execution_count": null,
      "outputs": [
        {
          "output_type": "stream",
          "name": "stderr",
          "text": [
            "/usr/local/lib/python3.7/dist-packages/tensorflow/python/keras/engine/sequential.py:450: UserWarning: `model.predict_classes()` is deprecated and will be removed after 2021-01-01. Please use instead:* `np.argmax(model.predict(x), axis=-1)`,   if your model does multi-class classification   (e.g. if it uses a `softmax` last-layer activation).* `(model.predict(x) > 0.5).astype(\"int32\")`,   if your model does binary classification   (e.g. if it uses a `sigmoid` last-layer activation).\n",
            "  warnings.warn('`model.predict_classes()` is deprecated and '\n"
          ]
        },
        {
          "output_type": "stream",
          "name": "stdout",
          "text": [
            "You shall go where I cannot boast not with me love love love me love write thy new ' now not prove prove be thine eyes spent old one ill more than thee write in thee be be free be true best old will bright ill long see untold told on memory ' forth afloat bright prove fullness bevel aside friend true love old ill well doth die tell me all thine old old ill old old new grow new new ' ill ill new doth ill eyes time new new ' be ill be twain free so dear verse ever prove me view wrong staineth\n"
          ]
        }
      ]
    }
  ]
}